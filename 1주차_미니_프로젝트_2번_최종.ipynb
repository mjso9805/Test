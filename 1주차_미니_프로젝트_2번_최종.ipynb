{
  "nbformat": 4,
  "nbformat_minor": 0,
  "metadata": {
    "colab": {
      "name": "1주차 미니 프로젝트 2번-최종.ipynb",
      "private_outputs": true,
      "provenance": [],
      "collapsed_sections": [],
      "toc_visible": true,
      "authorship_tag": "ABX9TyNIOgSTAHEm6efDHDQZqOFp",
      "include_colab_link": true
    },
    "kernelspec": {
      "name": "python3",
      "display_name": "Python 3"
    },
    "language_info": {
      "name": "python"
    }
  },
  "cells": [
    {
      "cell_type": "markdown",
      "metadata": {
        "id": "view-in-github",
        "colab_type": "text"
      },
      "source": [
        "<a href=\"https://colab.research.google.com/github/mjso9805/Test/blob/main/1%EC%A3%BC%EC%B0%A8_%EB%AF%B8%EB%8B%88_%ED%94%84%EB%A1%9C%EC%A0%9D%ED%8A%B8_2%EB%B2%88_%EC%B5%9C%EC%A2%85.ipynb\" target=\"_parent\"><img src=\"https://colab.research.google.com/assets/colab-badge.svg\" alt=\"Open In Colab\"/></a>"
      ]
    },
    {
      "cell_type": "markdown",
      "metadata": {
        "id": "ofWmjdM1V8V3"
      },
      "source": [
        "# 1. 파일 업로드, 폰트 설치"
      ]
    },
    {
      "cell_type": "code",
      "metadata": {
        "id": "-afEFSfgHrs2"
      },
      "source": [
        "from google.colab import drive \n",
        "drive.mount('/content/drive')  # 드라이브에서 파일 업로드\n",
        "!sudo apt-get install -y fonts-nanum  # 폰트 다운로드. plt 사용 시 한글 깨짐 방지.\n",
        "!sudo fc-cache -fv\n",
        "!rm ~/.cache/matplotlib -rf"
      ],
      "execution_count": null,
      "outputs": []
    },
    {
      "cell_type": "markdown",
      "metadata": {
        "id": "96u9oZ-vV63y"
      },
      "source": [
        "# 2. 데이터 열기"
      ]
    },
    {
      "cell_type": "code",
      "metadata": {
        "id": "DnvhEIYALaR9"
      },
      "source": [
        "import pandas as pd\n",
        "import numpy as np\n",
        "import os\n",
        "import matplotlib.pyplot as plt\n",
        "import matplotlib.font_manager as fm\n",
        "\n",
        "filename = '/content/drive/MyDrive/시군별유동인구데이터.csv' # 파일 열기\n",
        "data = pd.read_csv(filename,encoding='CP949')\n",
        "\n",
        "data.head(5)\n",
        "\n"
      ],
      "execution_count": null,
      "outputs": []
    },
    {
      "cell_type": "markdown",
      "metadata": {
        "id": "PHEutNkXzp3M"
      },
      "source": [
        "# 3. 표 수정"
      ]
    },
    {
      "cell_type": "code",
      "metadata": {
        "id": "vZ7RdYPDCLRU"
      },
      "source": [
        "data['출발지(야간체류지) 시군코드'] = data['출발지(야간체류지) 시군코드'].astype(str) # 앞자리 2개 추출을 위해 문자열로 변환\n",
        "data['출발 지역 코드'] = data['출발지(야간체류지) 시군코드'].str[0:2]  # 출발지 코드에서 앞 부분 2자리를 가져옴\n",
        "\n",
        "# 모든 유입 인구 합계\n",
        "data['Sum'] = (data['10대남성 유입인구'] + data['20대남성 유입인구'] + data['30대남성 유입인구'] + data['40대남성 유입인구'] + data['50대남성 유입인구'] + data['60대남성 유입인구'] + data['70대남성 유입인구'] \n",
        "               + data['10대여성 유입인구'] + data['20대여성 유입인구'] + data['30대여성 유입인구'] + data['40대여성 유입인구'] + data['50대여성 유입인구'] + data['60대여성 유입인구'] + data['70대여성 유입인구'])\n",
        "\n",
        "# 숫자 단위를 줄이기 위해 나눔\n",
        "data['Total'] = (data['Sum']/10000)\n",
        "\n",
        "data.head()"
      ],
      "execution_count": null,
      "outputs": []
    },
    {
      "cell_type": "code",
      "metadata": {
        "id": "ArajLDwLlo-3"
      },
      "source": [
        "data_src = data.drop(['년월','도착지 시군코드'],axis=1)\n",
        "data_dest = data.drop(['년월','출발지(야간체류지) 시군코드'],axis=1)\n",
        "\n",
        "data_src = data_src.groupby(data_src['출발 지역 코드']).sum() # 출발지 코드 기준으로 중복 제거, 유입 인구 합계 구함\n",
        "data_dest = data_dest.groupby(data_dest['도착지 시군코드']).sum() # 도착치 코드 기준으로 중복 제거, 유입 인구 합계 구함\n",
        "\n",
        "data_src.head()"
      ],
      "execution_count": null,
      "outputs": []
    },
    {
      "cell_type": "code",
      "metadata": {
        "id": "4jELoS5IoYGD"
      },
      "source": [
        "data_dest.head()"
      ],
      "execution_count": null,
      "outputs": []
    },
    {
      "cell_type": "markdown",
      "metadata": {
        "id": "vgToFBRgzyyA"
      },
      "source": [
        "# 4. 그래프에 사용할 정보 추출"
      ]
    },
    {
      "cell_type": "code",
      "metadata": {
        "id": "FeUxySyFgrst"
      },
      "source": [
        " # 그래프를 그리는데 필요한 출발지/ 도착지 코드와 유입 인구 합계 저장\n",
        "Total_src = data_src['Total'].tolist()\n",
        "local_Code = data_src.index.tolist() \n",
        "\n",
        "Total_dest = data_dest['Total'].tolist()\n",
        "dest_Code = data_dest.index.astype(str).tolist()\n",
        "\n",
        "print(Total_src)\n",
        "print(local_Code)\n",
        "print(Total_dest)\n",
        "print(dest_Code)"
      ],
      "execution_count": null,
      "outputs": []
    },
    {
      "cell_type": "markdown",
      "metadata": {
        "id": "ILpqpqYezkM6"
      },
      "source": [
        "# 5. 그래프 그리기"
      ]
    },
    {
      "cell_type": "code",
      "metadata": {
        "id": "d_uvmE4MwTir"
      },
      "source": [
        "plt.rc('font', family='NanumBarunGothic') # 폰트 적용\n",
        "plt.title('출발지 기준 유동인구 그래프')\n",
        "plt.bar(local_Code, Total_src)\n",
        "plt.xlabel('출발지 코드')\n",
        "plt.ylabel('유동 인구(단위 : 만)')\n",
        "plt.show()"
      ],
      "execution_count": null,
      "outputs": []
    },
    {
      "cell_type": "code",
      "metadata": {
        "id": "zX4RKP7c-I9T"
      },
      "source": [
        "ax = plt.subplot(1, 1, 1)\n",
        "plt.rcParams[\"figure.figsize\"] = (15,8)\n",
        "plt.title('도착지 기준 유동인구 그래프')\n",
        "plt.bar(dest_Code, Total_dest)\n",
        "plt.xlabel('도착지 코드')\n",
        "plt.ylabel('유동 인구(단위 : 만)')\n",
        "plt.xticks(rotation=45)\n",
        "plt.show()"
      ],
      "execution_count": null,
      "outputs": []
    }
  ]
}