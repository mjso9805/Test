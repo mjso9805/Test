{
  "nbformat": 4,
  "nbformat_minor": 0,
  "metadata": {
    "kernelspec": {
      "display_name": "Python 3",
      "language": "python",
      "name": "python3"
    },
    "language_info": {
      "codemirror_mode": {
        "name": "ipython",
        "version": 3
      },
      "file_extension": ".py",
      "mimetype": "text/x-python",
      "name": "python",
      "nbconvert_exporter": "python",
      "pygments_lexer": "ipython3",
      "version": "3.8.3"
    },
    "colab": {
      "name": "1주차 미니프로젝트 2번.ipynb",
      "provenance": [],
      "toc_visible": true,
      "include_colab_link": true
    }
  },
  "cells": [
    {
      "cell_type": "markdown",
      "metadata": {
        "id": "view-in-github",
        "colab_type": "text"
      },
      "source": [
        "<a href=\"https://colab.research.google.com/github/mjso9805/Test/blob/main/1%EC%A3%BC%EC%B0%A8_%EB%AF%B8%EB%8B%88%ED%94%84%EB%A1%9C%EC%A0%9D%ED%8A%B8_2%EB%B2%88.ipynb\" target=\"_parent\"><img src=\"https://colab.research.google.com/assets/colab-badge.svg\" alt=\"Open In Colab\"/></a>"
      ]
    },
    {
      "cell_type": "code",
      "metadata": {
        "colab": {
          "base_uri": "https://localhost:8080/"
        },
        "id": "M3u851yCmEKX",
        "outputId": "43b07c63-c483-4423-8038-74fb3d74097a"
      },
      "source": [
        "from google.colab import drive\n",
        "drive.mount('/content/drive')"
      ],
      "execution_count": null,
      "outputs": [
        {
          "output_type": "stream",
          "text": [
            "Drive already mounted at /content/drive; to attempt to forcibly remount, call drive.mount(\"/content/drive\", force_remount=True).\n"
          ],
          "name": "stdout"
        }
      ]
    },
    {
      "cell_type": "code",
      "metadata": {
        "scrolled": true,
        "id": "8GYf84zqw_jk"
      },
      "source": [
        "import pandas as pd\n",
        "import numpy as np\n",
        "import os\n",
        "\n",
        "data = pd.read_csv('/content/drive/MyDrive/Colab Notebooks/data/시군별유동인구데이터.csv', encoding='CP949', index_col=0, header=0, engine='python')\n",
        "# data.head()  #작업 내용 확인용 출력"
      ],
      "execution_count": null,
      "outputs": []
    },
    {
      "cell_type": "markdown",
      "metadata": {
        "id": "mMkaUqybw_jl"
      },
      "source": [
        "# 2. 출발지 기준"
      ]
    },
    {
      "cell_type": "code",
      "metadata": {
        "id": "W7aLLy-de7dK"
      },
      "source": [
        "data_start = data.groupby(data['출발지(야간체류지) 시군코드']).sum()\n",
        "data_start = data_start.drop(['도착지 시군코드'], axis = 1)\n",
        "data_start = data_start.reset_index()\n",
        "# data_start"
      ],
      "execution_count": null,
      "outputs": []
    },
    {
      "cell_type": "code",
      "metadata": {
        "id": "KXdEwDqKw_jl",
        "colab": {
          "base_uri": "https://localhost:8080/"
        },
        "outputId": "517daaa9-442b-4ac1-fcdf-d8f321abd869"
      },
      "source": [
        "addr = []\n",
        "\n",
        "for address in data_start['출발지(야간체류지) 시군코드']:\n",
        "    addr.append(str(address))\n",
        "\n",
        "#작업 내용 확인용 출력\n",
        "print('데이터 개수 : %d' % len(addr)) \n",
        "# addr"
      ],
      "execution_count": null,
      "outputs": [
        {
          "output_type": "stream",
          "text": [
            "데이터 개수 : 229\n"
          ],
          "name": "stdout"
        }
      ]
    },
    {
      "cell_type": "code",
      "metadata": {
        "id": "Mjl3dtkhw_jm"
      },
      "source": [
        "addr2 = []\n",
        "div = []\n",
        "name_file = []\n",
        "\n",
        "# addr에서 행정구역 표준 이름이 아닌것 수정하기\n",
        "for i in range(len(addr)):\n",
        "    if addr[i][0:2] == \"11\": addr[i] = addr[i].replace(addr[i],\"서울특별시\")\n",
        "    elif addr[i][0:2] == \"26\": addr[i] = addr[i].replace(addr[i],\"부산광역시\")\n",
        "    elif addr[i][0:2] == \"27\": addr[i] = addr[i].replace(addr[i],\"대구광역시\")\n",
        "    elif addr[i][0:2] == \"28\": addr[i] = addr[i].replace(addr[i],\"인천광역시\")\n",
        "    elif addr[i][0:2] == \"29\": addr[i] = addr[i].replace(addr[i],\"광주광역시\")\n",
        "    elif addr[i][0:2] == \"30\": addr[i] = addr[i].replace(addr[i],\"대전광역시\")\n",
        "    elif addr[i][0:2] == \"31\": addr[i] = addr[i].replace(addr[i],\"울산광역시\" )   \n",
        "    elif addr[i][0:2] == \"36\": addr[i] = addr[i].replace(addr[i],\"세종특별자치시\")\n",
        "    elif addr[i][0:2] == \"41\": addr[i] = addr[i].replace(addr[i],\"경기도\")\n",
        "    elif addr[i][0:2] == \"42\": addr[i] = addr[i].replace(addr[i],\"강원도\")\n",
        "    elif addr[i][0:2] == \"43\": addr[i] = addr[i].replace(addr[i],\"충청북도\")\n",
        "    elif addr[i][0:2] == \"44\": addr[i] = addr[i].replace(addr[i],\"충청남도\")\n",
        "    elif addr[i][0:2] == \"45\": addr[i] = addr[i].replace(addr[i],\"전라북도\")\n",
        "    elif addr[i][0:2] == \"46\": addr[i] = addr[i].replace(addr[i],\"전라남도\")\n",
        "    elif addr[i][0:2] == \"47\": addr[i] = addr[i].replace(addr[i],\"경상북도\")\n",
        "    elif addr[i][0:2] == \"48\": addr[i] = addr[i].replace(addr[i],\"경상남도\")\n",
        "    elif addr[i][0:2] == \"50\": addr[i] = addr[i].replace(addr[i],\"제주특별자치도\")\n",
        "    \n",
        "    addr2.append(''.join(addr[i]))\n",
        "    if i>0:\n",
        "      if addr[i] != addr[i-1]:\n",
        "        div.append(i)\n",
        "        name_file.append('(출발지)'+addr[i])\n",
        "    else :\n",
        "      div.append(i)\n",
        "      name_file.append('(출발지)'+addr[i])\n",
        "\n",
        "# div"
      ],
      "execution_count": null,
      "outputs": []
    },
    {
      "cell_type": "code",
      "metadata": {
        "id": "5fjoDUFOw_jn"
      },
      "source": [
        "addr2 = pd.DataFrame(addr2, columns=['행정구역(출발지)'])\n",
        "\n",
        "data_start_Hangul = pd.concat([addr2, data_start],  axis=1)\n",
        "# data_start_Hangul = data_start_Hangul.set_index(['출발지(야간체류지) 시군코드'])"
      ],
      "execution_count": null,
      "outputs": []
    },
    {
      "cell_type": "code",
      "metadata": {
        "id": "8FIeAnshw_jn"
      },
      "source": [
        "data_div = []\n",
        "inum = 0\n",
        "save_directory = '/content/drive/MyDrive/Colab Notebooks/data/savefile'\n",
        "\n",
        "for i ,file in zip(range(len(div)), name_file):\n",
        "    if i != len(div)-1:\n",
        "      inum = div[i]\n",
        "      data_div = data_start_Hangul.iloc[inum:div[i+1]]\n",
        "      \n",
        "    else :\n",
        "      data_div = data_start_Hangul.iloc[div[i]:]\n",
        "\n",
        "    new_file = data_div\n",
        "    file_path = os.path.join(save_directory, file)\n",
        "    data_div.to_csv(file_path)\n",
        "\n",
        "# data_div"
      ],
      "execution_count": null,
      "outputs": []
    },
    {
      "cell_type": "markdown",
      "metadata": {
        "id": "oFJICZnlzzKa"
      },
      "source": [
        "# 3. 도착지 기준"
      ]
    },
    {
      "cell_type": "code",
      "metadata": {
        "id": "tgsYZuKxz-n0"
      },
      "source": [
        "data_start = data.groupby(data['도착지 시군코드']).sum()\n",
        "data_start = data_start.drop(['출발지(야간체류지) 시군코드'], axis = 1)\n",
        "data_start = data_start.reset_index()\n",
        "# data_start"
      ],
      "execution_count": null,
      "outputs": []
    },
    {
      "cell_type": "code",
      "metadata": {
        "colab": {
          "base_uri": "https://localhost:8080/"
        },
        "id": "KPASQyF9z-n3",
        "outputId": "2ece71a4-ea43-4a1e-f3f6-32e7ec7d71d9"
      },
      "source": [
        "addr = []\n",
        "\n",
        "for address in data_start['도착지 시군코드']:\n",
        "    addr.append(str(address))\n",
        "\n",
        "#작업 내용 확인용 출력\n",
        "print('데이터 개수 : %d' % len(addr)) \n",
        "# addr"
      ],
      "execution_count": null,
      "outputs": [
        {
          "output_type": "stream",
          "text": [
            "데이터 개수 : 31\n"
          ],
          "name": "stdout"
        }
      ]
    },
    {
      "cell_type": "code",
      "metadata": {
        "id": "Lwo8clBIz-n4",
        "colab": {
          "base_uri": "https://localhost:8080/"
        },
        "outputId": "ebdf2a61-478d-470a-d1b5-1a0698336c5a"
      },
      "source": [
        "addr2 = []\n",
        "div = []\n",
        "name_file = []\n",
        "\n",
        "# addr에서 행정구역 표준 이름이 아닌것 수정하기\n",
        "for i in range(len(addr)):\n",
        "    if addr[i][0:2] == \"11\": addr[i] = addr[i].replace(addr[i],\"서울특별시\")\n",
        "    elif addr[i][0:2] == \"26\": addr[i] = addr[i].replace(addr[i],\"부산광역시\")\n",
        "    elif addr[i][0:2] == \"27\": addr[i] = addr[i].replace(addr[i],\"대구광역시\")\n",
        "    elif addr[i][0:2] == \"28\": addr[i] = addr[i].replace(addr[i],\"인천광역시\")\n",
        "    elif addr[i][0:2] == \"29\": addr[i] = addr[i].replace(addr[i],\"광주광역시\")\n",
        "    elif addr[i][0:2] == \"30\": addr[i] = addr[i].replace(addr[i],\"대전광역시\")\n",
        "    elif addr[i][0:2] == \"31\": addr[i] = addr[i].replace(addr[i],\"울산광역시\" )   \n",
        "    elif addr[i][0:2] == \"36\": addr[i] = addr[i].replace(addr[i],\"세종특별자치시\")\n",
        "    elif addr[i][0:2] == \"41\": addr[i] = addr[i].replace(addr[i],\"경기도\")\n",
        "    elif addr[i][0:2] == \"42\": addr[i] = addr[i].replace(addr[i],\"강원도\")\n",
        "    elif addr[i][0:2] == \"43\": addr[i] = addr[i].replace(addr[i],\"충청북도\")\n",
        "    elif addr[i][0:2] == \"44\": addr[i] = addr[i].replace(addr[i],\"충청남도\")\n",
        "    elif addr[i][0:2] == \"45\": addr[i] = addr[i].replace(addr[i],\"전라북도\")\n",
        "    elif addr[i][0:2] == \"46\": addr[i] = addr[i].replace(addr[i],\"전라남도\")\n",
        "    elif addr[i][0:2] == \"47\": addr[i] = addr[i].replace(addr[i],\"경상북도\")\n",
        "    elif addr[i][0:2] == \"48\": addr[i] = addr[i].replace(addr[i],\"경상남도\")\n",
        "    elif addr[i][0:2] == \"50\": addr[i] = addr[i].replace(addr[i],\"제주특별자치도\")\n",
        "    \n",
        "    addr2.append(''.join(addr[i]))\n",
        "    if i>0:\n",
        "      if addr[i] != addr[i-1]:\n",
        "        div.append(i)\n",
        "        name_file.append('(도착지)'+addr[i])\n",
        "    else :\n",
        "      div.append(i)\n",
        "      name_file.append('(도착지)'+addr[i])\n",
        "div"
      ],
      "execution_count": null,
      "outputs": [
        {
          "output_type": "execute_result",
          "data": {
            "text/plain": [
              "[0]"
            ]
          },
          "metadata": {
            "tags": []
          },
          "execution_count": 322
        }
      ]
    },
    {
      "cell_type": "code",
      "metadata": {
        "id": "dd3pMvcbz-n5",
        "colab": {
          "base_uri": "https://localhost:8080/"
        },
        "outputId": "b3bae25c-4e8c-4484-cf2f-154d621c0033"
      },
      "source": [
        "addr2 = pd.DataFrame(addr2, columns=['행정구역(도착지)'])\n",
        "\n",
        "data_start_Hangul = pd.concat([addr2, data_start],  axis=1)\n",
        "# data_start_Hangul = data_start_Hangul.set_index(['도착지 시군코드'])\n",
        "# data_start_Hangul\n",
        "len(div)"
      ],
      "execution_count": null,
      "outputs": [
        {
          "output_type": "execute_result",
          "data": {
            "text/plain": [
              "1"
            ]
          },
          "metadata": {
            "tags": []
          },
          "execution_count": 323
        }
      ]
    },
    {
      "cell_type": "code",
      "metadata": {
        "id": "ciR8oB24z-n6"
      },
      "source": [
        "data_div = []\n",
        "inum = 0\n",
        "save_directory = '/content/drive/MyDrive/Colab Notebooks/data/savefile'\n",
        "\n",
        "for i ,file in zip(range(len(div)), name_file):\n",
        "    if i != len(div)-1:\n",
        "      inum = div[i]\n",
        "      data_div = data_start_Hangul.iloc[inum:div[i+1]]\n",
        "      \n",
        "    else :\n",
        "      data_div = data_start_Hangul.iloc[div[i]:]\n",
        "\n",
        "    new_file = data_div\n",
        "    file_path = os.path.join(save_directory, file)\n",
        "    data_div.to_csv(file_path)\n",
        "\n",
        "# data_div"
      ],
      "execution_count": null,
      "outputs": []
    },
    {
      "cell_type": "code",
      "metadata": {
        "id": "wws9qfQW0jJf"
      },
      "source": [
        ""
      ],
      "execution_count": null,
      "outputs": []
    }
  ]
}